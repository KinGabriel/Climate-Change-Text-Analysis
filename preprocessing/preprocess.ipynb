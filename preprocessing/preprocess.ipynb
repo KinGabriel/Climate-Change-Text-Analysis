{
 "cells": [
  {
   "cell_type": "code",
   "id": "initial_id",
   "metadata": {
    "collapsed": true,
    "ExecuteTime": {
     "end_time": "2025-06-28T10:06:53.713365Z",
     "start_time": "2025-06-28T10:06:53.694237Z"
    }
   },
   "source": [
    "import numpy as np\n",
    "import pandas as pd\n",
    "import matplotlib.pyplot as plt\n",
    "import nltk\n",
    "from nltk.tokenize import word_tokenize\n",
    "import torch.nn as nn\n",
    "import torch.optim as optim\n",
    "from transformers import BertTokenizer, BertModel\n",
    "from sklearn.metrics.pairwise import cosine_similarity\n",
    "import re\n",
    "import warnings\n",
    "import unicodedata\n",
    "\n",
    "warnings.filterwarnings(\"ignore\")\n",
    "TOKENIZERS_PARALLELISM=True"
   ],
   "outputs": [],
   "execution_count": 2
  },
  {
   "metadata": {
    "ExecuteTime": {
     "end_time": "2025-06-28T10:07:50.457034Z",
     "start_time": "2025-06-28T10:06:59.381580Z"
    }
   },
   "cell_type": "code",
   "source": "df = pd.read_csv(\"../the-reddit-climate-change-dataset-comments.csv\")",
   "id": "b569def11035c6f5",
   "outputs": [],
   "execution_count": 3
  },
  {
   "metadata": {
    "ExecuteTime": {
     "end_time": "2025-06-28T10:19:55.291621Z",
     "start_time": "2025-06-28T10:19:11.313705Z"
    }
   },
   "cell_type": "code",
   "source": [
    "def reduce_dataset_balanced(input_file, output_file, target_size=50000):\n",
    "    \"\"\"\n",
    "    Reduce a dataset to a target size while maintaining balanced sentiment distribution.\n",
    "\n",
    "    Args:\n",
    "        input_file (str): Path to input CSV file\n",
    "        output_file (str): Path to save reduced CSV file\n",
    "        target_size (int): Desired number of records in output (default: 50000)\n",
    "    \"\"\"\n",
    "\n",
    "    # Load the dataset\n",
    "    df = pd.read_csv(input_file)\n",
    "\n",
    "    # Categorize sentiment\n",
    "    df['sentiment_category'] = np.where(\n",
    "        df['sentiment'] < 0, 'negative',\n",
    "        np.where(df['sentiment'] == 0, 'neutral', 'positive')\n",
    "    )\n",
    "\n",
    "    # Calculate target size for each category (equal distribution)\n",
    "    category_size = target_size // 3\n",
    "\n",
    "    # Sample from each category\n",
    "    samples = []\n",
    "    for category in ['negative', 'neutral', 'positive']:\n",
    "        category_df = df[df['sentiment_category'] == category]\n",
    "\n",
    "        # If category has fewer samples than needed, take all\n",
    "        n_samples = min(category_size, len(category_df))\n",
    "\n",
    "        # Random sample without replacement\n",
    "        sample = category_df.sample(n=n_samples, random_state=42)\n",
    "        samples.append(sample)\n",
    "\n",
    "    # Combine samples\n",
    "    reduced_df = pd.concat(samples)\n",
    "\n",
    "    # If total is less than target due to rounding, sample more from largest category\n",
    "    if len(reduced_df) < target_size:\n",
    "        remaining = target_size - len(reduced_df)\n",
    "        # Find largest category\n",
    "        counts = reduced_df['sentiment_category'].value_counts()\n",
    "        largest_category = counts.idxmax()\n",
    "        # Get additional samples from largest category\n",
    "        category_df = df[df['sentiment_category'] == largest_category]\n",
    "        # Exclude already sampled rows\n",
    "        category_df = category_df[~category_df.index.isin(reduced_df.index)]\n",
    "        additional_samples = category_df.sample(n=remaining, random_state=42)\n",
    "        reduced_df = pd.concat([reduced_df, additional_samples])\n",
    "\n",
    "    # Remove temporary column and shuffle\n",
    "    reduced_df = reduced_df.drop(columns=['sentiment_category'])\n",
    "    reduced_df = reduced_df.sample(frac=1, random_state=42).reset_index(drop=True)\n",
    "\n",
    "    # Save to CSV\n",
    "    reduced_df.to_csv(output_file, index=False)\n",
    "    print(f\"Saved balanced dataset with {len(reduced_df)} records to {output_file}\")\n",
    "    print(\"Sentiment distribution:\")\n",
    "    print(reduced_df['sentiment'].apply(\n",
    "        lambda x: 'negative' if x < 0 else 'neutral' if x == 0 else 'positive'\n",
    "    ).value_counts())\n",
    "\n",
    "reduce_dataset_balanced('../the-reddit-climate-change-dataset-comments.csv', '../reduced_dataset.csv', 50000)"
   ],
   "id": "1cc5667767300dfd",
   "outputs": [
    {
     "name": "stdout",
     "output_type": "stream",
     "text": [
      "Saved balanced dataset with 50000 records to ../reduced_dataset.csv\n",
      "Sentiment distribution:\n",
      "sentiment\n",
      "negative    16668\n",
      "positive    16666\n",
      "neutral     16666\n",
      "Name: count, dtype: int64\n"
     ]
    }
   ],
   "execution_count": 5
  },
  {
   "metadata": {
    "ExecuteTime": {
     "end_time": "2025-06-28T10:22:29.820006Z",
     "start_time": "2025-06-28T10:22:29.407483Z"
    }
   },
   "cell_type": "code",
   "source": "df = pd.read_csv(\"../reduced_dataset.csv\")",
   "id": "a30df5f3a3d61da2",
   "outputs": [],
   "execution_count": 6
  },
  {
   "metadata": {
    "ExecuteTime": {
     "end_time": "2025-06-28T10:22:46.899930Z",
     "start_time": "2025-06-28T10:22:46.758243Z"
    }
   },
   "cell_type": "code",
   "source": [
    " #1. Check for null values\n",
    "print(\"Null values in each column:\")\n",
    "print(df.isnull().sum())\n",
    "\n",
    "# 2. Check for duplicate rows\n",
    "print(\"\\nNumber of duplicate rows:\")\n",
    "print(df.duplicated().sum())\n",
    "\n",
    "# 3. Drop the unnecessary columns\n",
    "df = df.drop(columns=['type', 'id', 'subreddit.id', 'subreddit.name','subreddit.nsfw', 'created_utc', 'permalink', 'score'])"
   ],
   "id": "5c4da08e539472",
   "outputs": [
    {
     "name": "stdout",
     "output_type": "stream",
     "text": [
      "Null values in each column:\n",
      "type                0\n",
      "id                  0\n",
      "subreddit.id        0\n",
      "subreddit.name      0\n",
      "subreddit.nsfw      0\n",
      "created_utc         0\n",
      "permalink           0\n",
      "body                0\n",
      "sentiment         451\n",
      "score               0\n",
      "dtype: int64\n",
      "\n",
      "Number of duplicate rows:\n",
      "0\n"
     ]
    }
   ],
   "execution_count": 7
  },
  {
   "metadata": {
    "ExecuteTime": {
     "end_time": "2025-06-28T10:22:59.086326Z",
     "start_time": "2025-06-28T10:22:58.995184Z"
    }
   },
   "cell_type": "code",
   "source": [
    "def remove_accented_chars(text):\n",
    "    if not isinstance(text, str):\n",
    "        return text\n",
    "    text = unicodedata.normalize('NFKD', text).encode('ascii', 'ignore').decode('utf-8', 'ignore')\n",
    "    return text\n",
    "\n",
    "df['body'] = df['body'].apply(remove_accented_chars)"
   ],
   "id": "36b708963c2d5b04",
   "outputs": [],
   "execution_count": 8
  },
  {
   "metadata": {
    "ExecuteTime": {
     "end_time": "2025-06-28T10:23:46.489257Z",
     "start_time": "2025-06-28T10:23:17.036899Z"
    }
   },
   "cell_type": "code",
   "source": [
    "nltk.download('punkt_tab')\n",
    "df['tokenized_body'] = df['body'].apply(lambda x: word_tokenize(str(x)))\n",
    "\n",
    "df.head()"
   ],
   "id": "c6cd759f6a4ed329",
   "outputs": [
    {
     "name": "stderr",
     "output_type": "stream",
     "text": [
      "[nltk_data] Downloading package punkt_tab to\n",
      "[nltk_data]     C:\\Users\\Admin\\AppData\\Roaming\\nltk_data...\n",
      "[nltk_data]   Package punkt_tab is already up-to-date!\n"
     ]
    },
    {
     "data": {
      "text/plain": [
       "                                                body  sentiment  \\\n",
       "0  People need to do this kind of thing more ofte...     0.8610   \n",
       "1  That's cute; if things don't reverse course in...    -0.1759   \n",
       "2  What's interesting is that you are arguing wit...    -0.0896   \n",
       "3  i can agree with that. a lot of the media is o...    -0.8176   \n",
       "4  The rising seas are due to global warming, but...     0.0772   \n",
       "\n",
       "                                      tokenized_body  \n",
       "0  [People, need, to, do, this, kind, of, thing, ...  \n",
       "1  [That, 's, cute, ;, if, things, do, n't, rever...  \n",
       "2  [What, 's, interesting, is, that, you, are, ar...  \n",
       "3  [i, can, agree, with, that, ., a, lot, of, the...  \n",
       "4  [The, rising, seas, are, due, to, global, warm...  "
      ],
      "text/html": [
       "<div>\n",
       "<style scoped>\n",
       "    .dataframe tbody tr th:only-of-type {\n",
       "        vertical-align: middle;\n",
       "    }\n",
       "\n",
       "    .dataframe tbody tr th {\n",
       "        vertical-align: top;\n",
       "    }\n",
       "\n",
       "    .dataframe thead th {\n",
       "        text-align: right;\n",
       "    }\n",
       "</style>\n",
       "<table border=\"1\" class=\"dataframe\">\n",
       "  <thead>\n",
       "    <tr style=\"text-align: right;\">\n",
       "      <th></th>\n",
       "      <th>body</th>\n",
       "      <th>sentiment</th>\n",
       "      <th>tokenized_body</th>\n",
       "    </tr>\n",
       "  </thead>\n",
       "  <tbody>\n",
       "    <tr>\n",
       "      <th>0</th>\n",
       "      <td>People need to do this kind of thing more ofte...</td>\n",
       "      <td>0.8610</td>\n",
       "      <td>[People, need, to, do, this, kind, of, thing, ...</td>\n",
       "    </tr>\n",
       "    <tr>\n",
       "      <th>1</th>\n",
       "      <td>That's cute; if things don't reverse course in...</td>\n",
       "      <td>-0.1759</td>\n",
       "      <td>[That, 's, cute, ;, if, things, do, n't, rever...</td>\n",
       "    </tr>\n",
       "    <tr>\n",
       "      <th>2</th>\n",
       "      <td>What's interesting is that you are arguing wit...</td>\n",
       "      <td>-0.0896</td>\n",
       "      <td>[What, 's, interesting, is, that, you, are, ar...</td>\n",
       "    </tr>\n",
       "    <tr>\n",
       "      <th>3</th>\n",
       "      <td>i can agree with that. a lot of the media is o...</td>\n",
       "      <td>-0.8176</td>\n",
       "      <td>[i, can, agree, with, that, ., a, lot, of, the...</td>\n",
       "    </tr>\n",
       "    <tr>\n",
       "      <th>4</th>\n",
       "      <td>The rising seas are due to global warming, but...</td>\n",
       "      <td>0.0772</td>\n",
       "      <td>[The, rising, seas, are, due, to, global, warm...</td>\n",
       "    </tr>\n",
       "  </tbody>\n",
       "</table>\n",
       "</div>"
      ]
     },
     "execution_count": 9,
     "metadata": {},
     "output_type": "execute_result"
    }
   ],
   "execution_count": 9
  },
  {
   "metadata": {
    "ExecuteTime": {
     "end_time": "2025-06-28T10:26:14.053754Z",
     "start_time": "2025-06-28T10:24:25.187755Z"
    }
   },
   "cell_type": "code",
   "source": [
    "from nltk.stem import WordNetLemmatizer\n",
    "from nltk.corpus import wordnet\n",
    "from nltk import pos_tag\n",
    "\n",
    "nltk.download('wordnet')\n",
    "nltk.download('omw-1.4')\n",
    "nltk.download('averaged_perceptron_tagger')\n",
    "\n",
    "# Initialize the lemmatizer\n",
    "lemmatizer = WordNetLemmatizer()\n",
    "\n",
    "# Map POS tag\n",
    "def get_wordnet_pos(word):\n",
    "    tag = pos_tag([word])[0][1][0].upper()\n",
    "    tag_dict = {\"J\": wordnet.ADJ, \"N\": wordnet.NOUN,\n",
    "                \"V\": wordnet.VERB, \"R\": wordnet.ADV}\n",
    "    return tag_dict.get(tag, wordnet.NOUN)\n",
    "\n",
    "# Lemmatization function\n",
    "def lemmatize_tokens(tokens):\n",
    "    return [lemmatizer.lemmatize(token, get_wordnet_pos(token)) for token in tokens]\n",
    "\n",
    "# Apply lemmatization directly (tokenized_body is already a list)\n",
    "df['lemmatized_body'] = df['tokenized_body'].apply(lemmatize_tokens)\n",
    "\n",
    "df.head()"
   ],
   "id": "51c551c510214d24",
   "outputs": [
    {
     "name": "stderr",
     "output_type": "stream",
     "text": [
      "[nltk_data] Downloading package wordnet to\n",
      "[nltk_data]     C:\\Users\\Admin\\AppData\\Roaming\\nltk_data...\n",
      "[nltk_data]   Package wordnet is already up-to-date!\n",
      "[nltk_data] Downloading package omw-1.4 to\n",
      "[nltk_data]     C:\\Users\\Admin\\AppData\\Roaming\\nltk_data...\n",
      "[nltk_data]   Package omw-1.4 is already up-to-date!\n",
      "[nltk_data] Downloading package averaged_perceptron_tagger to\n",
      "[nltk_data]     C:\\Users\\Admin\\AppData\\Roaming\\nltk_data...\n",
      "[nltk_data]   Package averaged_perceptron_tagger is already up-to-\n",
      "[nltk_data]       date!\n"
     ]
    },
    {
     "data": {
      "text/plain": [
       "                                                body  sentiment  \\\n",
       "0  People need to do this kind of thing more ofte...     0.8610   \n",
       "1  That's cute; if things don't reverse course in...    -0.1759   \n",
       "2  What's interesting is that you are arguing wit...    -0.0896   \n",
       "3  i can agree with that. a lot of the media is o...    -0.8176   \n",
       "4  The rising seas are due to global warming, but...     0.0772   \n",
       "\n",
       "                                      tokenized_body  \\\n",
       "0  [People, need, to, do, this, kind, of, thing, ...   \n",
       "1  [That, 's, cute, ;, if, things, do, n't, rever...   \n",
       "2  [What, 's, interesting, is, that, you, are, ar...   \n",
       "3  [i, can, agree, with, that, ., a, lot, of, the...   \n",
       "4  [The, rising, seas, are, due, to, global, warm...   \n",
       "\n",
       "                                     lemmatized_body  \n",
       "0  [People, need, to, do, this, kind, of, thing, ...  \n",
       "1  [That, 's, cute, ;, if, thing, do, n't, revers...  \n",
       "2  [What, 's, interest, be, that, you, be, argue,...  \n",
       "3  [i, can, agree, with, that, ., a, lot, of, the...  \n",
       "4  [The, rise, sea, be, due, to, global, warm, ,,...  "
      ],
      "text/html": [
       "<div>\n",
       "<style scoped>\n",
       "    .dataframe tbody tr th:only-of-type {\n",
       "        vertical-align: middle;\n",
       "    }\n",
       "\n",
       "    .dataframe tbody tr th {\n",
       "        vertical-align: top;\n",
       "    }\n",
       "\n",
       "    .dataframe thead th {\n",
       "        text-align: right;\n",
       "    }\n",
       "</style>\n",
       "<table border=\"1\" class=\"dataframe\">\n",
       "  <thead>\n",
       "    <tr style=\"text-align: right;\">\n",
       "      <th></th>\n",
       "      <th>body</th>\n",
       "      <th>sentiment</th>\n",
       "      <th>tokenized_body</th>\n",
       "      <th>lemmatized_body</th>\n",
       "    </tr>\n",
       "  </thead>\n",
       "  <tbody>\n",
       "    <tr>\n",
       "      <th>0</th>\n",
       "      <td>People need to do this kind of thing more ofte...</td>\n",
       "      <td>0.8610</td>\n",
       "      <td>[People, need, to, do, this, kind, of, thing, ...</td>\n",
       "      <td>[People, need, to, do, this, kind, of, thing, ...</td>\n",
       "    </tr>\n",
       "    <tr>\n",
       "      <th>1</th>\n",
       "      <td>That's cute; if things don't reverse course in...</td>\n",
       "      <td>-0.1759</td>\n",
       "      <td>[That, 's, cute, ;, if, things, do, n't, rever...</td>\n",
       "      <td>[That, 's, cute, ;, if, thing, do, n't, revers...</td>\n",
       "    </tr>\n",
       "    <tr>\n",
       "      <th>2</th>\n",
       "      <td>What's interesting is that you are arguing wit...</td>\n",
       "      <td>-0.0896</td>\n",
       "      <td>[What, 's, interesting, is, that, you, are, ar...</td>\n",
       "      <td>[What, 's, interest, be, that, you, be, argue,...</td>\n",
       "    </tr>\n",
       "    <tr>\n",
       "      <th>3</th>\n",
       "      <td>i can agree with that. a lot of the media is o...</td>\n",
       "      <td>-0.8176</td>\n",
       "      <td>[i, can, agree, with, that, ., a, lot, of, the...</td>\n",
       "      <td>[i, can, agree, with, that, ., a, lot, of, the...</td>\n",
       "    </tr>\n",
       "    <tr>\n",
       "      <th>4</th>\n",
       "      <td>The rising seas are due to global warming, but...</td>\n",
       "      <td>0.0772</td>\n",
       "      <td>[The, rising, seas, are, due, to, global, warm...</td>\n",
       "      <td>[The, rise, sea, be, due, to, global, warm, ,,...</td>\n",
       "    </tr>\n",
       "  </tbody>\n",
       "</table>\n",
       "</div>"
      ]
     },
     "execution_count": 10,
     "metadata": {},
     "output_type": "execute_result"
    }
   ],
   "execution_count": 10
  },
  {
   "metadata": {
    "ExecuteTime": {
     "end_time": "2025-06-28T10:28:19.907559Z",
     "start_time": "2025-06-28T10:28:19.883846Z"
    }
   },
   "cell_type": "code",
   "source": "df = df.drop(columns=['tokenized_body'])",
   "id": "53db2dae0900f158",
   "outputs": [],
   "execution_count": 11
  },
  {
   "metadata": {
    "ExecuteTime": {
     "end_time": "2025-06-28T10:30:01.943091Z",
     "start_time": "2025-06-28T10:29:41.393096Z"
    }
   },
   "cell_type": "code",
   "source": [
    "from nltk.corpus import stopwords\n",
    "nltk.download('stopwords')\n",
    "\n",
    "# Load the stopwords\n",
    "STOPWORDS = set(stopwords.words('english'))\n",
    "\n",
    "# Contraction expansion mapping\n",
    "CONTRACTIONS = {\n",
    "    r\"won't\": \"will not\",\n",
    "    r\"can't\": \"can not\",\n",
    "    r\"n't\": \" not\",  # general case (doesn't → does not)\n",
    "    r\"'re\": \" are\",\n",
    "    r\"'s\": \" is\",    # possessive 's → \" is\" (optional: keep as \"'s\" removal only)\n",
    "    r\"'d\": \" would\",\n",
    "    r\"'ll\": \" will\",\n",
    "    r\"'ve\": \" have\",\n",
    "    r\"'m\": \" am\"\n",
    "}\n",
    "\n",
    "def expand_contractions(token):\n",
    "    \"\"\"Expand contractions in a token (e.g., \"won't\" → \"will not\")\"\"\"\n",
    "    for contraction, expansion in CONTRACTIONS.items():\n",
    "        token = re.sub(contraction, expansion, token)\n",
    "    return token\n",
    "\n",
    "def clean_and_remove_stopwords(token_list):\n",
    "    \"\"\"\n",
    "    Custom function to:\n",
    "    1. Expand contractions (e.g., \"won't\" → \"will not\")\n",
    "    2. Remove non-word tokens (symbols, punctuation)\n",
    "    3. Remove stopwords and possessive 's\n",
    "    \"\"\"\n",
    "    cleaned_tokens = []\n",
    "    for token in token_list:\n",
    "        # Skip if the token is not alphabetic (allows apostrophes for contractions)\n",
    "        if not re.fullmatch(r\"[a-zA-Z'-]+\", str(token)):\n",
    "            continue\n",
    "\n",
    "        # Step 1: Expand contractions (e.g., \"I'm\" → \"I am\")\n",
    "        token = expand_contractions(token)\n",
    "\n",
    "        # Step 2: Split into subtokens if contraction expansion added spaces (e.g., \"will not\" → [\"will\", \"not\"])\n",
    "        subtokens = token.split()\n",
    "\n",
    "        for subtoken in subtokens:\n",
    "            # Remove possessive 's (e.g., \"world's\" → \"world\")\n",
    "            subtoken = re.sub(r\"'s$\", \"\", subtoken)\n",
    "\n",
    "            # Skip if subtoken is empty after processing\n",
    "            if not subtoken:\n",
    "                continue\n",
    "\n",
    "            # Convert to lowercase and check if it's a stopword\n",
    "            subtoken_lower = subtoken.lower()\n",
    "            if subtoken_lower not in STOPWORDS:\n",
    "                cleaned_tokens.append(subtoken)\n",
    "\n",
    "    return cleaned_tokens\n",
    "\n",
    "# Example usage:\n",
    "df['lemmatized_body'] = df['lemmatized_body'].apply(clean_and_remove_stopwords)"
   ],
   "id": "f8f5d8a60dc6009e",
   "outputs": [
    {
     "name": "stderr",
     "output_type": "stream",
     "text": [
      "[nltk_data] Downloading package stopwords to\n",
      "[nltk_data]     C:\\Users\\Admin\\AppData\\Roaming\\nltk_data...\n",
      "[nltk_data]   Package stopwords is already up-to-date!\n"
     ]
    }
   ],
   "execution_count": 14
  },
  {
   "metadata": {
    "ExecuteTime": {
     "end_time": "2025-06-28T10:30:06.722250Z",
     "start_time": "2025-06-28T10:30:06.699253Z"
    }
   },
   "cell_type": "code",
   "source": "df.head()",
   "id": "3385824706b57fb3",
   "outputs": [
    {
     "data": {
      "text/plain": [
       "                                                body  sentiment  \\\n",
       "0  People need to do this kind of thing more ofte...     0.8610   \n",
       "1  That's cute; if things don't reverse course in...    -0.1759   \n",
       "2  What's interesting is that you are arguing wit...    -0.0896   \n",
       "3  i can agree with that. a lot of the media is o...    -0.8176   \n",
       "4  The rising seas are due to global warming, but...     0.0772   \n",
       "\n",
       "                                     lemmatized_body  \n",
       "0  [People, need, kind, thing, often, obviously, ...  \n",
       "1  [cute, thing, reverse, course, world, climate,...  \n",
       "2  [interest, argue, statement, almost, scientist...  \n",
       "3  [agree, lot, medium, large, part, billionaire,...  \n",
       "4  [rise, sea, due, global, warm, flood, probably...  "
      ],
      "text/html": [
       "<div>\n",
       "<style scoped>\n",
       "    .dataframe tbody tr th:only-of-type {\n",
       "        vertical-align: middle;\n",
       "    }\n",
       "\n",
       "    .dataframe tbody tr th {\n",
       "        vertical-align: top;\n",
       "    }\n",
       "\n",
       "    .dataframe thead th {\n",
       "        text-align: right;\n",
       "    }\n",
       "</style>\n",
       "<table border=\"1\" class=\"dataframe\">\n",
       "  <thead>\n",
       "    <tr style=\"text-align: right;\">\n",
       "      <th></th>\n",
       "      <th>body</th>\n",
       "      <th>sentiment</th>\n",
       "      <th>lemmatized_body</th>\n",
       "    </tr>\n",
       "  </thead>\n",
       "  <tbody>\n",
       "    <tr>\n",
       "      <th>0</th>\n",
       "      <td>People need to do this kind of thing more ofte...</td>\n",
       "      <td>0.8610</td>\n",
       "      <td>[People, need, kind, thing, often, obviously, ...</td>\n",
       "    </tr>\n",
       "    <tr>\n",
       "      <th>1</th>\n",
       "      <td>That's cute; if things don't reverse course in...</td>\n",
       "      <td>-0.1759</td>\n",
       "      <td>[cute, thing, reverse, course, world, climate,...</td>\n",
       "    </tr>\n",
       "    <tr>\n",
       "      <th>2</th>\n",
       "      <td>What's interesting is that you are arguing wit...</td>\n",
       "      <td>-0.0896</td>\n",
       "      <td>[interest, argue, statement, almost, scientist...</td>\n",
       "    </tr>\n",
       "    <tr>\n",
       "      <th>3</th>\n",
       "      <td>i can agree with that. a lot of the media is o...</td>\n",
       "      <td>-0.8176</td>\n",
       "      <td>[agree, lot, medium, large, part, billionaire,...</td>\n",
       "    </tr>\n",
       "    <tr>\n",
       "      <th>4</th>\n",
       "      <td>The rising seas are due to global warming, but...</td>\n",
       "      <td>0.0772</td>\n",
       "      <td>[rise, sea, due, global, warm, flood, probably...</td>\n",
       "    </tr>\n",
       "  </tbody>\n",
       "</table>\n",
       "</div>"
      ]
     },
     "execution_count": 15,
     "metadata": {},
     "output_type": "execute_result"
    }
   ],
   "execution_count": 15
  }
 ],
 "metadata": {
  "kernelspec": {
   "display_name": "Python 3",
   "language": "python",
   "name": "python3"
  },
  "language_info": {
   "codemirror_mode": {
    "name": "ipython",
    "version": 2
   },
   "file_extension": ".py",
   "mimetype": "text/x-python",
   "name": "python",
   "nbconvert_exporter": "python",
   "pygments_lexer": "ipython2",
   "version": "2.7.6"
  }
 },
 "nbformat": 4,
 "nbformat_minor": 5
}
